{
  "nbformat": 4,
  "nbformat_minor": 0,
  "metadata": {
    "colab": {
      "provenance": [],
      "include_colab_link": true
    },
    "kernelspec": {
      "name": "python3",
      "display_name": "Python 3"
    },
    "language_info": {
      "name": "python"
    }
  },
  "cells": [
    {
      "cell_type": "markdown",
      "metadata": {
        "id": "view-in-github",
        "colab_type": "text"
      },
      "source": [
        "<a href=\"https://colab.research.google.com/github/e-evarela/media/blob/main/varela_exercise1.ipynb\" target=\"_parent\"><img src=\"https://colab.research.google.com/assets/colab-badge.svg\" alt=\"Open In Colab\"/></a>"
      ]
    },
    {
      "cell_type": "markdown",
      "source": [
        "Δημιουργήστε τις παρακάτω μεταβλητές:\n",
        "- όνομα\n",
        "- επώνυμο\n",
        "- αριθμός μητρώου\n",
        "- μάθημα 1\n",
        "- μάθημα 2\n",
        "- μάθημα 3\n",
        "- βαθμός μαθήματος 1\n",
        "- βαθμός μαθήματος 2\n",
        "- βαθμός μαθήματος 3\n",
        "\n",
        "Σε κάθε μεταβλητή δώστε την αντίστοιχη τιμή, με το σωστό τύπο δεδομένων (string, integer).\n",
        "\n",
        "Τυπώστε στην οθόνη (print) τις τιμές όλων των μεταβλητών που ορίσατε.\n",
        "\n",
        "**Hints**:\n",
        "- όπου η τιμή είναι αριθμός, σκεφτείτε αν θα χρησιμοποιήσετε stirng ή integer, ανάλογα με το αν χρειάζεται να κάνετε αργότερα αριθμητικές πράξεις\n",
        "- χρησιμοποιήστε ονόματα μεταβλητών που να έχουν νόημα\n",
        "- εάν γράψετε όλες τις εντολές σε ένα κελί, όταν φτάσετε στο τέλος στο σημείο να γράψετε την εντολή `print`, το colab θα σας προτείνει να γράψετε μέσα στις παρενθέσεις όλες τις μεταβλητές. Πατήστε `tab` για να αποδεχτείτε την πρόταση που σας κάνει."
      ],
      "metadata": {
        "id": "JZISjhuEQFOB"
      }
    },
    {
      "cell_type": "markdown",
      "source": [
        "Υπολογίστε το μέσο όρο των βαθμών των 3 μαθημάτων, αποθηκεύστε τον σε μια μεταβλητή και τυπώστε την τιμή της μεταβλητής του μέσου όρου στην οθόνη.\n",
        "\n",
        "**Hints**:\n",
        "- ο μέσος όρος υπολογίζεται με τη φόρμουλα: <άθροισμα επιμέρους τιμών> δια <πλήθος τιμών>\n",
        "- για τον υπολογισμό του μέσου όρου χρησιμοποιήστε τα ονόματα των μεταβλητών των επιμέρους τιμών και όχι τις τιμές τους"
      ],
      "metadata": {
        "id": "uPD0W-qcWcfV"
      }
    },
    {
      "cell_type": "code",
      "source": [
        "Name=\"Eleni\"\n",
        "SurName=\"Varela\"\n",
        "AM=\"7983092400008\"\n",
        "Course1=\"Machine Learning\"\n",
        "Course2=\"Python\"\n",
        "Course3=\"3Design\"\n",
        "GradeC1=7.5\n",
        "GradeC2=8.5\n",
        "GradeC3=6"
      ],
      "metadata": {
        "id": "bXDaRNiBrqpg"
      },
      "execution_count": null,
      "outputs": []
    },
    {
      "cell_type": "code",
      "execution_count": null,
      "metadata": {
        "id": "cRnQhimEPhY0",
        "colab": {
          "base_uri": "https://localhost:8080/"
        },
        "outputId": "cf39466e-177b-4d9c-cddf-db78ffe02381"
      },
      "outputs": [
        {
          "output_type": "stream",
          "name": "stdout",
          "text": [
            "Eleni Varela 7983092400008 Machine Learning Python 3Design 7.5 8.5 6\n"
          ]
        }
      ],
      "source": [
        "print (Name, SurName, AM, Course1, Course2, Course3, GradeC1, GradeC2, GradeC3)"
      ]
    },
    {
      "cell_type": "code",
      "source": [
        "Gavg= (GradeC1+GradeC2+GradeC3)/3\n"
      ],
      "metadata": {
        "id": "bRMGrh2HtaEk"
      },
      "execution_count": null,
      "outputs": []
    },
    {
      "cell_type": "markdown",
      "source": [
        "Τυπώστε στην οθόνη την τιμή του μέσου όρου και τον τύπο δεδομένων της μεταβλητής του μέσου όρου."
      ],
      "metadata": {
        "id": "3lDi2k3iYoWe"
      }
    },
    {
      "cell_type": "code",
      "source": [
        "print (Gavg)\n",
        "type(Gavg)"
      ],
      "metadata": {
        "colab": {
          "base_uri": "https://localhost:8080/"
        },
        "id": "1OM1RMPsueCG",
        "outputId": "a54d8844-95dd-4e00-c732-37a8eee604a6"
      },
      "execution_count": null,
      "outputs": [
        {
          "output_type": "stream",
          "name": "stdout",
          "text": [
            "7.333333333333333\n"
          ]
        },
        {
          "output_type": "execute_result",
          "data": {
            "text/plain": [
              "float"
            ]
          },
          "metadata": {},
          "execution_count": 4
        }
      ]
    },
    {
      "cell_type": "markdown",
      "source": [
        "Μετατρέψτε το μέσο όρο σε ακέραιο (integer) και τυπώστε το αποτέλεσμα στην οθόνη."
      ],
      "metadata": {
        "id": "y-QK_9DmZHAF"
      }
    },
    {
      "cell_type": "code",
      "source": [
        "Gavg=int(Gavg)\n",
        "print (Gavg)\n",
        "type(Gavg)"
      ],
      "metadata": {
        "colab": {
          "base_uri": "https://localhost:8080/"
        },
        "id": "HgiUaBhyul3f",
        "outputId": "f1f7905a-51c4-4871-a05e-083e7989f945"
      },
      "execution_count": null,
      "outputs": [
        {
          "output_type": "stream",
          "name": "stdout",
          "text": [
            "7\n"
          ]
        },
        {
          "output_type": "execute_result",
          "data": {
            "text/plain": [
              "int"
            ]
          },
          "metadata": {},
          "execution_count": 5
        }
      ]
    },
    {
      "cell_type": "markdown",
      "source": [
        "Αλλάξτε τις τιμές των μεταβλητών των βαθμών των μαθημάτων και ξαναϋπολογίστε τον μέσο όρο."
      ],
      "metadata": {
        "id": "2UZvmxOPayZM"
      }
    },
    {
      "cell_type": "code",
      "source": [
        "GradeC1=9\n",
        "GradeC2=9\n",
        "GradeC3=7.5\n",
        "Gavg= (GradeC1+GradeC2+GradeC3)/3\n",
        "print (Gavg)"
      ],
      "metadata": {
        "id": "Pt7S8erXeasx",
        "colab": {
          "base_uri": "https://localhost:8080/"
        },
        "outputId": "f795e6cb-205b-4837-ea4c-c87da6486cdc"
      },
      "execution_count": null,
      "outputs": [
        {
          "output_type": "stream",
          "name": "stdout",
          "text": [
            "8.5\n"
          ]
        }
      ]
    },
    {
      "cell_type": "markdown",
      "source": [
        "Δημιουργήστε ένα νέο κελί κώδικα.\n",
        "\n",
        "Μέσα στο κελί γράφει: Start coding or generate with AI. Πατήστε τη λέξη generate.\n",
        "\n",
        "Στο κελί Generate που εμφανίζεται γράψτε ένα prompt με το οποίο να του ζητάτε να αλλάξει τη μεταβλητή grade1 σε 5 και να ξαναϋπολογίσει τον μέσο όρο."
      ],
      "metadata": {
        "id": "1dhIvNXCecFf"
      }
    },
    {
      "cell_type": "code",
      "source": [
        "# prompt: Change GradeC1 to 5 and print Gavg\n",
        "\n",
        "GradeC1 = 5\n",
        "Gavg = (GradeC1 + GradeC2 + GradeC3) / 3\n",
        "Gavg\n"
      ],
      "metadata": {
        "id": "9yTveSV_bLbV",
        "colab": {
          "base_uri": "https://localhost:8080/"
        },
        "outputId": "10002bb3-da8c-4b1e-a92b-566375f3b74f"
      },
      "execution_count": null,
      "outputs": [
        {
          "output_type": "execute_result",
          "data": {
            "text/plain": [
              "7.166666666666667"
            ]
          },
          "metadata": {},
          "execution_count": 7
        }
      ]
    }
  ]
}