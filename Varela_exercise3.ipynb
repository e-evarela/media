{
  "nbformat": 4,
  "nbformat_minor": 0,
  "metadata": {
    "colab": {
      "provenance": [],
      "include_colab_link": true
    },
    "kernelspec": {
      "name": "python3",
      "display_name": "Python 3"
    },
    "language_info": {
      "name": "python"
    }
  },
  "cells": [
    {
      "cell_type": "markdown",
      "metadata": {
        "id": "view-in-github",
        "colab_type": "text"
      },
      "source": [
        "<a href=\"https://colab.research.google.com/github/e-evarela/media/blob/main/Varela_exercise3.ipynb\" target=\"_parent\"><img src=\"https://colab.research.google.com/assets/colab-badge.svg\" alt=\"Open In Colab\"/></a>"
      ]
    },
    {
      "cell_type": "markdown",
      "source": [
        "### Άσκηση 1\n",
        "\n",
        "Σ' αυτή την άσκηση θα φτιάξουμε μια λίστα στην οποία θα αποθηκεύουμε δίάφορα δεδομένα από άρθρα που δημοσιεύονται σε sites.\n",
        "\n",
        "Φτιάξτε ένα νέο κελί κώδικα (Code cell) ακριβώς κάτω από αυτό και κάνετε τα παρακάτω:\n",
        "\n",
        "- Δημιουργήστε μια κενή λίστα όπου θα αποθηκεύετε τα δεδομένα των άρθρων\n",
        "- Δημιουργήστε ένα λεξικό με τα στοιχεία του πρώτου άρθρου που θα συλλέξετε από ένα site: \"Τίτλος\", \"Ημερομηνία\", \"Κατηγορία\", \"url\"\n",
        "- Επαναλάβετε το 2 για ακόμα ένα άρθρο\n",
        "- Προσθέστε τα λεξικά στη λίστα.\n",
        "- Τυπώστε στην οθόνη τον τίτλο του 2ου άρθρου\n",
        "- Προσθέστε και στα 2 άρθρα μια εγγραφή με το όνομα του αντίστοιχου site που πήρατε το άρθρο\n",
        "- Τυπώστε στην οθόνη το πλήθος των λεξικών που έχει η λίστα.\n",
        "\n",
        "Tip:Δουλέψτε τμηματικά και ελέγχετε σε κάθε βήμα αυτό που κάνετε."
      ],
      "metadata": {
        "id": "PYkQAeYLq0d5"
      }
    },
    {
      "cell_type": "code",
      "execution_count": 157,
      "metadata": {
        "id": "_51_g4biqyte",
        "colab": {
          "base_uri": "https://localhost:8080/"
        },
        "outputId": "c7d4d15e-e119-46b7-f738-1db33ebf4e38"
      },
      "outputs": [
        {
          "output_type": "execute_result",
          "data": {
            "text/plain": [
              "list"
            ]
          },
          "metadata": {},
          "execution_count": 157
        }
      ],
      "source": [
        "ArtData = []\n",
        "type (ArtData)"
      ]
    },
    {
      "cell_type": "markdown",
      "source": [],
      "metadata": {
        "id": "SETYFH5kFTHA"
      }
    },
    {
      "cell_type": "code",
      "source": [
        "Art1DataDict = {\"Title\": \"Why is Elon Musk still CEO of Tesla?\", \"Date\": \"Tue 18 Mar 2025 11.00 CET\", \"Category\": \"Technology\", \"url\": \"https://www.theguardian.com/global/2025/mar/18/elon-musk-tesla-apple-siri-meta-techscape\"}\n",
        "type (ArtDataDict)\n"
      ],
      "metadata": {
        "colab": {
          "base_uri": "https://localhost:8080/"
        },
        "id": "DgTE0jUwOKIJ",
        "outputId": "d1e32d51-f500-40a3-df91-fa20d64a0953"
      },
      "execution_count": 158,
      "outputs": [
        {
          "output_type": "execute_result",
          "data": {
            "text/plain": [
              "dict"
            ]
          },
          "metadata": {},
          "execution_count": 158
        }
      ]
    },
    {
      "cell_type": "code",
      "source": [
        "Art2DataDict= {\"Title\": \"How a tiny village in a deserted part of Spain became a centre for gay weddings\", \"Date\": \"Tue 18 Mar 2025 08.00 CET\", \"Category\": \"Travel\", \"url\": \"https://www.theguardian.com/travel/2025/mar/18/how-a-tiny-village-in-a-deserted-part-of-spain-became-a-centre-for-gay-weddings\"}\n",
        "type (ArtDataDict)"
      ],
      "metadata": {
        "colab": {
          "base_uri": "https://localhost:8080/"
        },
        "id": "TuMqtK7DPmO2",
        "outputId": "8ef55e40-965c-44d6-9791-fc6c179896f5"
      },
      "execution_count": 159,
      "outputs": [
        {
          "output_type": "execute_result",
          "data": {
            "text/plain": [
              "dict"
            ]
          },
          "metadata": {},
          "execution_count": 159
        }
      ]
    },
    {
      "cell_type": "markdown",
      "source": [
        "\n",
        "\n",
        "---\n",
        "\n"
      ],
      "metadata": {
        "id": "5YTNrgMwvHQb"
      }
    },
    {
      "cell_type": "code",
      "source": [
        "ArtData.append(Art1DataDict)\n",
        "ArtData.append(Art2DataDict)\n",
        "print(ArtData)"
      ],
      "metadata": {
        "colab": {
          "base_uri": "https://localhost:8080/"
        },
        "id": "b2ygD4ZJGR9X",
        "outputId": "62b4ff20-f92e-4daa-fd84-3057df8216f4"
      },
      "execution_count": 160,
      "outputs": [
        {
          "output_type": "stream",
          "name": "stdout",
          "text": [
            "[{'Title': 'Why is Elon Musk still CEO of Tesla?', 'Date': 'Tue 18 Mar 2025 11.00 CET', 'Category': 'Technology', 'url': 'https://www.theguardian.com/global/2025/mar/18/elon-musk-tesla-apple-siri-meta-techscape'}, {'Title': 'How a tiny village in a deserted part of Spain became a centre for gay weddings', 'Date': 'Tue 18 Mar 2025 08.00 CET', 'Category': 'Travel', 'url': 'https://www.theguardian.com/travel/2025/mar/18/how-a-tiny-village-in-a-deserted-part-of-spain-became-a-centre-for-gay-weddings'}]\n"
          ]
        }
      ]
    },
    {
      "cell_type": "code",
      "source": [
        "Art2DataDict[\"Title\"]"
      ],
      "metadata": {
        "colab": {
          "base_uri": "https://localhost:8080/",
          "height": 36
        },
        "id": "YBobS29OGi49",
        "outputId": "b2f9cd1b-c269-4b1e-d2a1-7b15fa3c49d2"
      },
      "execution_count": 161,
      "outputs": [
        {
          "output_type": "execute_result",
          "data": {
            "text/plain": [
              "'How a tiny village in a deserted part of Spain became a centre for gay weddings'"
            ],
            "application/vnd.google.colaboratory.intrinsic+json": {
              "type": "string"
            }
          },
          "metadata": {},
          "execution_count": 161
        }
      ]
    },
    {
      "cell_type": "code",
      "source": [
        "Art1DataDict[\"Source\"] = \"The Guardian\"\n",
        "Art2DataDict[\"Source\"] = \"The Guardian\"\n",
        "print(Art1DataDict)\n",
        "print(Art2DataDict)"
      ],
      "metadata": {
        "colab": {
          "base_uri": "https://localhost:8080/"
        },
        "id": "DvLVv3o9Ho0V",
        "outputId": "e0016b0e-4635-4aad-8cf0-a254bac5a5e2"
      },
      "execution_count": 162,
      "outputs": [
        {
          "output_type": "stream",
          "name": "stdout",
          "text": [
            "{'Title': 'Why is Elon Musk still CEO of Tesla?', 'Date': 'Tue 18 Mar 2025 11.00 CET', 'Category': 'Technology', 'url': 'https://www.theguardian.com/global/2025/mar/18/elon-musk-tesla-apple-siri-meta-techscape', 'Source': 'The Guardian'}\n",
            "{'Title': 'How a tiny village in a deserted part of Spain became a centre for gay weddings', 'Date': 'Tue 18 Mar 2025 08.00 CET', 'Category': 'Travel', 'url': 'https://www.theguardian.com/travel/2025/mar/18/how-a-tiny-village-in-a-deserted-part-of-spain-became-a-centre-for-gay-weddings', 'Source': 'The Guardian'}\n"
          ]
        }
      ]
    },
    {
      "cell_type": "code",
      "source": [
        "print(len(ArtData))"
      ],
      "metadata": {
        "colab": {
          "base_uri": "https://localhost:8080/"
        },
        "id": "pfYbCcNhH5x2",
        "outputId": "a77b16bd-45cb-4144-f4e0-727c1dca2378"
      },
      "execution_count": 163,
      "outputs": [
        {
          "output_type": "stream",
          "name": "stdout",
          "text": [
            "2\n"
          ]
        }
      ]
    },
    {
      "cell_type": "markdown",
      "source": [
        "### Άσκηση 2\n",
        "\n",
        "Η ακολουθία των αριθμών που δημιουργείται από το άθροισμα ενός αριθμού με τον προηγούμενό του λέγεται ακολουθία [Φιμπονάτσι](https://el.wikipedia.org/wiki/%CE%91%CE%BA%CE%BF%CE%BB%CE%BF%CF%85%CE%B8%CE%AF%CE%B1_%CE%A6%CE%B9%CE%BC%CF%80%CE%BF%CE%BD%CE%AC%CF%84%CF%83%CE%B9).\n",
        "\n",
        "Στο παρακάτω κελί και κάτω από τον υπάρχοντα κώδικα:\n",
        "\n",
        "- φτιάξτε μια for loop που θα τρέχει 22 φορές και\n",
        "- θα φτιάχνει μια μεταβλητή με όνομα c και τιμή το άθροισμα των a και b\n",
        "- θα τυπώνει την τιμή του c\n",
        "- θα αλλάζει την τιμή του a σε b και\n",
        "- θα αλλάζει την τιμή του b σε c\n",
        "- τρέξτε τον κώδικα"
      ],
      "metadata": {
        "id": "omSbKRDDyGb4"
      }
    },
    {
      "cell_type": "code",
      "source": [
        "a = 0\n",
        "b = 1\n",
        "for i in range (22):\n",
        "  c = a + b\n",
        "  print(c)\n",
        "  a=b\n",
        "  b=c\n",
        "\n",
        ""
      ],
      "metadata": {
        "id": "EZVUpHre870A",
        "colab": {
          "base_uri": "https://localhost:8080/"
        },
        "outputId": "d9d77c86-85b8-480f-b9d5-4c306026f678"
      },
      "execution_count": 164,
      "outputs": [
        {
          "output_type": "stream",
          "name": "stdout",
          "text": [
            "1\n",
            "2\n",
            "3\n",
            "5\n",
            "8\n",
            "13\n",
            "21\n",
            "34\n",
            "55\n",
            "89\n",
            "144\n",
            "233\n",
            "377\n",
            "610\n",
            "987\n",
            "1597\n",
            "2584\n",
            "4181\n",
            "6765\n",
            "10946\n",
            "17711\n",
            "28657\n"
          ]
        }
      ]
    },
    {
      "cell_type": "markdown",
      "source": [
        "\n",
        "\n",
        "---\n",
        "\n"
      ],
      "metadata": {
        "id": "DmjkxZGvzXy1"
      }
    },
    {
      "cell_type": "markdown",
      "source": [
        "### Άσκηση 3\n",
        "\n",
        "Φτιάξτε ένα νέο κελί κώδικα ακριβώς από κάτω και:\n",
        "\n",
        "- Φτιάξτε μια λίστα με όνομα titlesL και βάλτε μέσα τους τίτλους 3 αγαπημένων σας ταινιών\n",
        "- Φτιάξτε άλλη μια λίστα με όνομα ratingsL και βάλτε μέσα το βαθμό (από το 1 έως το 10) που θα βάζατε σε καθε μια από τις ταινίες\n",
        "- Φτιάξτε μια for loop που να τρέχει για όλα τα αντικείμενα της λίστας των ταινιών και να τυπώνει το όνομά της και το βαθμό της.\n",
        "\n",
        "Hints:\n",
        "Δεδομενου ότι οι δύο λίστες έχουν τον ίδιο αριθμό αντικειμένων και η σειρά των βαθμολογιών αντιστοιχεί στη σειρά των ταινιών, μπορείτε να χρησιμοποιήσετε τον αριθμό του index και την range() σε συνδυασμό με τη len().\n",
        "\n",
        "**Γράψτε σε comment τι κάνει η κάθε γραμμή του κώδικά σας.**\n"
      ],
      "metadata": {
        "id": "QOAgGYGWvJIp"
      }
    },
    {
      "cell_type": "markdown",
      "source": [
        "\n",
        "\n",
        "---\n",
        "\n"
      ],
      "metadata": {
        "id": "6kh_O0w5yEFw"
      }
    },
    {
      "cell_type": "code",
      "source": [
        "titlesL= [\"The Neon Demon\", \"Gone Girl\", \"Midsommar\"] #φτιάνει την λίστα titlesL\n",
        "type(titlesL) #να επιβεβαιώσω οτι είναι λίστα"
      ],
      "metadata": {
        "id": "gDcAB6eG8AbC",
        "colab": {
          "base_uri": "https://localhost:8080/"
        },
        "outputId": "8a0378b8-54da-4cc8-f08b-a7b212739285"
      },
      "execution_count": 166,
      "outputs": [
        {
          "output_type": "execute_result",
          "data": {
            "text/plain": [
              "list"
            ]
          },
          "metadata": {},
          "execution_count": 166
        }
      ]
    },
    {
      "cell_type": "code",
      "source": [
        "ratingsL= [10, 9, 9.5] #φτιάνει την λίστα ratingsL\n",
        "type(ratingsL) #να επιβεβαιώσω οτι είναι λίστα"
      ],
      "metadata": {
        "colab": {
          "base_uri": "https://localhost:8080/"
        },
        "id": "bDTgugABvtuJ",
        "outputId": "2ae66c32-bff2-46a5-c395-48ca41956070"
      },
      "execution_count": 167,
      "outputs": [
        {
          "output_type": "execute_result",
          "data": {
            "text/plain": [
              "list"
            ]
          },
          "metadata": {},
          "execution_count": 167
        }
      ]
    },
    {
      "cell_type": "code",
      "source": [
        "for i in range(0, len(titlesL)): #για κάθε αντικείμενο στο έυρος(μήκος;) της λίστας titlesL\n",
        "    print(titlesL[i], ratingsL[i]) #τυπώνει τον τίτλο και την βαθμολογία"
      ],
      "metadata": {
        "colab": {
          "base_uri": "https://localhost:8080/"
        },
        "id": "WPk3Lpj-wxMh",
        "outputId": "aba13f4d-46a0-44a7-c31d-f22e424fe6b2"
      },
      "execution_count": 168,
      "outputs": [
        {
          "output_type": "stream",
          "name": "stdout",
          "text": [
            "The Neon Demon 10\n",
            "Gone Girl 9\n",
            "Midsommar 9.5\n"
          ]
        }
      ]
    },
    {
      "cell_type": "markdown",
      "source": [
        "### Άσκηση 4\n",
        "\n",
        "Φτιάξτε ένα νέο κελί κώδικα ακριβώς από κάτω και:\n",
        "\n",
        "- Φτιάξτε μια λίστα με όνομα titlesL και βάλτε μέσα τους τίτλους 3 αγαπημένων σας ταινιών\n",
        "- Φτιάξτε άλλη μια λίστα με όνομα ratingsL και βάλτε μέσα το βαθμό (από το 1 έως το 10) που θα βάζατε σε καθε μια από τις ταινίες\n",
        "\n",
        "**Αν κάνατε την προηγούμενη άσκηση, χρησιμοποιήστε τις ήδη δημιουργημένες λίστες titlesL και ratingsL - δλδ μην φτιάξετε καινούριες λίστες για το ίδιο πράγμα**\n",
        "\n",
        "- Φτιάξτε μια κενή λίστα με όνομα moviesL\n",
        "\n",
        "Φτιάξτε μια for loop που να τρέχει για όλα τα indexes της λίστας των ταινιών και να κάνει τα παρακάτω:\n",
        "- δημιουργεί ένα κενό λεξικό με όνομα movieD\n",
        "- φτιάχνει ένα item στο λεξικό με όνομα κλειδιού \"title\" και τιμή τον τίτλο που αντιστοιχεί στο εκάστοτε index της λίστας titlesL\n",
        "- φτιάχνει ένα item στο λεξικό με όνομα κλειδιού \"rating\" και τιμή το rating που αντιστοιχεδί στο εκάστοτε index της λίστας ratingsL\n",
        "- προσθέτει το λεξικό στη λίστα moviesL\n",
        "\n",
        "Τέλος, τυπώστε τη λίστα moviesL.\n",
        "\n",
        "**Γράψτε σε comment τι κάνει η κάθε γραμμή του κώδικά σας.**\n"
      ],
      "metadata": {
        "id": "TjFqUapc0JMr"
      }
    },
    {
      "cell_type": "code",
      "source": [
        "moviesL = [] #δημιουργεί την κενή λίστα\n",
        "for i in range (0, len(titlesL)): #for loop για το range της λίστας titlesL\n",
        "  movieD = {} #δημιουργεί το κενό λεξικό\n",
        "  movieD[\"title\"] = titlesL[i] #προσθέτει item στο λεξικό με τους τίτλους τον ταινιών για όλες τις τιμές του i\n",
        "  movieD[\"rating\"] = ratingsL[i] #προσθέτει item στο λεξικό με τα ratings τον ταινιών για όλες τις τιμές του i\n",
        "  moviesL.append(movieD) #προσθέτει το λεξικό στη λίστα moviesL\n",
        "print(moviesL) #τυπώνει την λίστα\n"
      ],
      "metadata": {
        "colab": {
          "base_uri": "https://localhost:8080/"
        },
        "id": "mNs4r8aS7wie",
        "outputId": "e0b79b41-4092-4fd5-8d84-cbddece9992f"
      },
      "execution_count": 169,
      "outputs": [
        {
          "output_type": "stream",
          "name": "stdout",
          "text": [
            "[{'title': 'The Neon Demon', 'rating': 10}, {'title': 'Gone Girl', 'rating': 9}, {'title': 'Midsommar', 'rating': 9.5}]\n"
          ]
        }
      ]
    }
  ]
}